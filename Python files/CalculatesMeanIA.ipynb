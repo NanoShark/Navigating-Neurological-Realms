{
  "nbformat": 4,
  "nbformat_minor": 0,
  "metadata": {
    "colab": {
      "provenance": [],
      "authorship_tag": "ABX9TyO5vi3Rtu09odTGnpPM3sVD",
      "include_colab_link": true
    },
    "kernelspec": {
      "name": "python3",
      "display_name": "Python 3"
    },
    "language_info": {
      "name": "python"
    }
  },
  "cells": [
    {
      "cell_type": "markdown",
      "metadata": {
        "id": "view-in-github",
        "colab_type": "text"
      },
      "source": [
        "<a href=\"https://colab.research.google.com/github/NanoShark/Navigating-Neurological-Realms/blob/main/CalculatesMeanIA.ipynb\" target=\"_parent\"><img src=\"https://colab.research.google.com/assets/colab-badge.svg\" alt=\"Open In Colab\"/></a>"
      ]
    },
    {
      "cell_type": "code",
      "source": [
        "from google.colab import drive\n",
        "drive.mount('/content/gdrive/', force_remount=True)"
      ],
      "metadata": {
        "id": "GSX7vYUfknTC"
      },
      "execution_count": null,
      "outputs": []
    },
    {
      "cell_type": "code",
      "execution_count": null,
      "metadata": {
        "id": "5oxFfSJokOqI"
      },
      "outputs": [],
      "source": [
        "#calcualte the thresholds\n",
        "\n",
        "\n",
        "import pandas as pd\n",
        "import numpy as np\n",
        "import glob\n",
        "\n",
        "def calculate_ia(L, R):\n",
        "    \"\"\"Calculate Index of Asymmetry (IA)\"\"\"\n",
        "    return abs((L - R) / max(L, R)) * 100\n",
        "\n",
        "def analyze_asymmetry(data):\n",
        "    # Extract relevant columns for left and right controllers\n",
        "    left_position_cols = ['LeftPosX', 'LeftPosY', 'LeftPosZ']\n",
        "    right_position_cols = ['RightPosX', 'RightPosY', 'RightPosZ']\n",
        "    left_rotation_cols = ['LeftRotX', 'LeftRotY', 'LeftRotZ', 'LeftRotW']\n",
        "    right_rotation_cols = ['RightRotX', 'RightRotY', 'RightRotZ', 'RightRotW']\n",
        "    left_velocity_cols = ['LeftVelX', 'LeftVelY', 'LeftVelZ']\n",
        "    right_velocity_cols = ['RightVelX', 'RightVelY', 'RightVelZ']\n",
        "\n",
        "    # Initialize lists to store IA values for each type of measurement\n",
        "    ia_positions = []\n",
        "    ia_rotations = []\n",
        "    ia_velocities = []\n",
        "\n",
        "    # Calculate IA for positions\n",
        "    for left_col, right_col in zip(left_position_cols, right_position_cols):\n",
        "        for index, row in data.iterrows():\n",
        "            ia_positions.append(calculate_ia(row[left_col], row[right_col]))\n",
        "\n",
        "    # Calculate IA for rotations\n",
        "    for left_col, right_col in zip(left_rotation_cols, right_rotation_cols):\n",
        "        for index, row in data.iterrows():\n",
        "            ia_rotations.append(calculate_ia(row[left_col], row[right_col]))\n",
        "\n",
        "    # Calculate IA for velocities\n",
        "    for left_col, right_col in zip(left_velocity_cols, right_velocity_cols):\n",
        "        for index, row in data.iterrows():\n",
        "            ia_velocities.append(calculate_ia(row[left_col], row[right_col]))\n",
        "\n",
        "    # Calculate mean IA for positions, rotations, and velocities\n",
        "    mean_ia_positions = np.mean(ia_positions)\n",
        "    mean_ia_rotations = np.mean(ia_rotations)\n",
        "    mean_ia_velocities = np.mean(ia_velocities)\n",
        "\n",
        "    # Combine results into a dictionary\n",
        "    asymmetry_results = {\n",
        "        'mean_ia_positions': mean_ia_positions,\n",
        "        'mean_ia_rotations': mean_ia_rotations,\n",
        "        'mean_ia_velocities': mean_ia_velocities\n",
        "    }\n",
        "\n",
        "    return asymmetry_results\n",
        "\n",
        "def determine_thresholds_for_healthy(alpha=1.2):\n",
        "    \"\"\"Determine the thresholds based on healthy individuals' data\"\"\"\n",
        "    position_ias = []\n",
        "    rotation_ias = []\n",
        "    velocity_ias = []\n",
        "\n",
        "    # Process all CSV files in the directory\n",
        "    for file in glob.glob(\"path_to_healthy_csv_files/*.csv\"):  # Replace with the correct path\n",
        "        data = pd.read_csv(file)\n",
        "        asymmetry_results = analyze_asymmetry(data)\n",
        "\n",
        "        # Collect IA values for each measurement type\n",
        "        position_ias.append(asymmetry_results['mean_ia_positions'])\n",
        "        rotation_ias.append(asymmetry_results['mean_ia_rotations'])\n",
        "        velocity_ias.append(asymmetry_results['mean_ia_velocities'])\n",
        "\n",
        "    # Calculate mean IA across all healthy individuals\n",
        "    mean_position_ia = np.mean(position_ias)\n",
        "    mean_rotation_ia = np.mean(rotation_ias)\n",
        "    mean_velocity_ia = np.mean(velocity_ias)\n",
        "\n",
        "    # Determine thresholds\n",
        "    thresholds = {\n",
        "        'position_threshold': alpha * mean_position_ia,\n",
        "        'rotation_threshold': alpha * mean_rotation_ia,\n",
        "        'velocity_threshold': alpha * mean_velocity_ia\n",
        "    }\n",
        "\n",
        "    return thresholds\n",
        "\n",
        "def main():\n",
        "    # Determine thresholds using healthy individuals' data\n",
        "    thresholds = determine_thresholds_for_healthy(alpha=1.2)\n",
        "\n",
        "    # Output the determined thresholds\n",
        "    print(\"Determined Thresholds for Asymmetry:\")\n",
        "    print(thresholds)\n",
        "\n",
        "if __name__ == \"__main__\":\n",
        "    main()\n"
      ]
    }
  ]
}